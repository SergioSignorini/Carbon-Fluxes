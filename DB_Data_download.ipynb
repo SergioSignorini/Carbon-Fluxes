{
 "cells": [
  {
   "cell_type": "markdown",
   "metadata": {},
   "source": [
    "Download data from openDAP to compute DOC flux"
   ]
  },
  {
   "cell_type": "code",
   "execution_count": 3,
   "metadata": {
    "collapsed": true
   },
   "outputs": [],
   "source": [
    "\"\"\"Import packages\"\"\"\n",
    "import datetime\n",
    "import xarray as xr\n",
    "import numpy as np\n",
    "import scipy.io as sio"
   ]
  },
  {
   "cell_type": "code",
   "execution_count": 4,
   "metadata": {
    "collapsed": true
   },
   "outputs": [],
   "source": [
    "\"\"\"Get openDAP URLs and download data\"\"\"\n",
    "url1='http://tds.marine.rutgers.edu/thredds/dodsC/roms/ecb/del/2007-2008/avg'\n",
    "url2='http://tds.marine.rutgers.edu/thredds/dodsC/roms/ecb/del/2009-2011/avg'\n",
    "ds1 = xr.open_dataset(url1)\n",
    "ds2 = xr.open_dataset(url2)\n",
    "\n",
    "# slicing throught the time, xi_u and eta_u dimensions\n",
    "Hvom1 = ds1.sel(ocean_time=slice('2007','2008'),eta_v=126,xi_v=slice(25, 54)).Hvom\n",
    "Hvom_slbDOC1 =ds1.sel(ocean_time=slice('2007','2008'),eta_v=126,xi_v=slice(25, 54)).Hvom_semilabileDOC\n",
    "Hvom_rfrDOC1 =ds1.sel(ocean_time=slice('2007','2008'),eta_v=126,xi_v=slice(25, 54)).Hvom_refractoryDOC\n",
    "#\n",
    "Hvom2 = ds2.sel(ocean_time=slice('2009','2011'),eta_v=126,xi_v=slice(25, 54)).Hvom\n",
    "Hvom_slbDOC2 =ds2.sel(ocean_time=slice('2009','2011'),eta_v=126,xi_v=slice(25, 54)).Hvom_semilabileDOC\n",
    "Hvom_rfrDOC2 =ds2.sel(ocean_time=slice('2009','2011'),eta_v=126,xi_v=slice(25, 54)).Hvom_refractoryDOC"
   ]
  },
  {
   "cell_type": "code",
   "execution_count": 5,
   "metadata": {
    "collapsed": true
   },
   "outputs": [],
   "source": [
    "# concatenate arrays\n",
    "Hvom_DOC1=Hvom_slbDOC1 + Hvom_rfrDOC1\n",
    "Hvom_DOC2=Hvom_slbDOC2 + Hvom_rfrDOC2\n",
    "Hvom = xr.concat([Hvom1, Hvom2], dim='ocean_time')\n",
    "Hvom_DOC = xr.concat([Hvom_DOC1, Hvom_DOC2], dim='ocean_time')"
   ]
  },
  {
   "cell_type": "code",
   "execution_count": 6,
   "metadata": {
    "collapsed": true
   },
   "outputs": [],
   "source": [
    "\"\"\"Daily Huon*DOC - Following Aboozar's suggestion, as Pierre did:\n",
    "tracers (e.g DOC, salt) are calculated at the middle of each cell but\n",
    "velocities are calculated at the sides, so the right way to calculate\n",
    "uhvom x DOC would be to average DOC at 2 center points before and after\n",
    "the side. I took cell j=126 for tracers and so I'm averaging DOC in the\n",
    "center of cell 125 and 126 \"\"\"\n",
    "# 2007-2008 run\n",
    "DOCslb1 =ds1.sel(ocean_time=slice('2007','2008'),eta_rho=125,xi_rho=slice(25, 54)).semilabileDOC\n",
    "DOCslb2 =ds1.sel(ocean_time=slice('2007','2008'),eta_rho=126,xi_rho=slice(25, 54)).semilabileDOC\n",
    "DOCrfr1 =ds1.sel(ocean_time=slice('2007','2008'),eta_rho=125,xi_rho=slice(25, 54)).refractoryDOC\n",
    "DOCrfr2 =ds1.sel(ocean_time=slice('2007','2008'),eta_rho=126,xi_rho=slice(25, 54)).refractoryDOC\n",
    "wrk1 = 0.5*(DOCslb1 + DOCslb2)\n",
    "wrk2 = 0.5*(DOCrfr1 + DOCrfr2)\n",
    "DOC1 = wrk1 + wrk2\n",
    "# 2009-2011 run\n",
    "DOCslb3 =ds2.sel(ocean_time=slice('2009','2011'),eta_rho=125,xi_rho=slice(25, 54)).semilabileDOC\n",
    "DOCslb4 =ds2.sel(ocean_time=slice('2009','2011'),eta_rho=126,xi_rho=slice(25, 54)).semilabileDOC\n",
    "DOCrfr3 =ds2.sel(ocean_time=slice('2009','2011'),eta_rho=125,xi_rho=slice(25, 54)).refractoryDOC\n",
    "DOCrfr4 =ds2.sel(ocean_time=slice('2009','2011'),eta_rho=126,xi_rho=slice(25, 54)).refractoryDOC\n",
    "wrk3 = 0.5*(DOCslb3 + DOCslb4)\n",
    "wrk4 = 0.5*(DOCrfr3 + DOCrfr4)\n",
    "DOC2 = wrk3 + wrk4\n",
    "# concatenate arrays\n",
    "DOC = xr.concat([DOC1, DOC2], dim='ocean_time')"
   ]
  },
  {
   "cell_type": "code",
   "execution_count": 12,
   "metadata": {
    "collapsed": true
   },
   "outputs": [],
   "source": [
    "salt1 = ds1.sel(ocean_time=slice('2007','2008'),eta_rho=125,xi_rho=slice(25, 54)).salt\n",
    "salt2 = ds1.sel(ocean_time=slice('2007','2008'),eta_rho=126,xi_rho=slice(25, 54)).salt\n",
    "salta = 0.5*(salt1 +salt2)\n",
    "temp1 = ds1.sel(ocean_time=slice('2007','2008'),eta_rho=125,xi_rho=slice(25, 54)).temp\n",
    "temp2 = ds1.sel(ocean_time=slice('2007','2008'),eta_rho=126,xi_rho=slice(25, 54)).temp\n",
    "tempa = 0.5*(temp1 + temp2)\n",
    "salt3 = ds2.sel(ocean_time=slice('2009','2011'),eta_rho=125,xi_rho=slice(25, 54)).salt\n",
    "salt4 = ds2.sel(ocean_time=slice('2009','2011'),eta_rho=126,xi_rho=slice(25, 54)).salt\n",
    "saltb = 0.5*(salt3 +salt4)\n",
    "temp3 = ds2.sel(ocean_time=slice('2009','2011'),eta_rho=125,xi_rho=slice(25, 54)).temp\n",
    "temp4 = ds2.sel(ocean_time=slice('2009','2011'),eta_rho=126,xi_rho=slice(25, 54)).temp\n",
    "tempb = 0.5*(temp3 + temp4)\n",
    "# concatenate arrays\n",
    "salt = xr.concat([salta,saltb], dim='ocean_time')\n",
    "temp = xr.concat([tempa,tempb], dim='ocean_time')"
   ]
  },
  {
   "cell_type": "code",
   "execution_count": 13,
   "metadata": {
    "collapsed": true
   },
   "outputs": [],
   "source": [
    "def make_dataset(data_array_dict):\n",
    "    xr_ds = xr.Dataset(data_array_dict)\n",
    "    return xr_ds"
   ]
  },
  {
   "cell_type": "code",
   "execution_count": 14,
   "metadata": {
    "scrolled": true
   },
   "outputs": [],
   "source": [
    "makeds = make_dataset(dict(Hvom=Hvom, Hvom_DOC=Hvom_DOC, DOC=DOC, salt=salt, temp=temp))\n",
    "makeds.to_netcdf('delaware_bay_docflux.nc')"
   ]
  }
 ],
 "metadata": {
  "kernelspec": {
   "display_name": "Python 3",
   "language": "python",
   "name": "python3"
  },
  "language_info": {
   "codemirror_mode": {
    "name": "ipython",
    "version": 3
   },
   "file_extension": ".py",
   "mimetype": "text/x-python",
   "name": "python",
   "nbconvert_exporter": "python",
   "pygments_lexer": "ipython3",
   "version": "3.6.3"
  }
 },
 "nbformat": 4,
 "nbformat_minor": 2
}
