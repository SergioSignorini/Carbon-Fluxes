{
 "cells": [
  {
   "cell_type": "markdown",
   "metadata": {},
   "source": [
    "Download data from openDAP to compute DOC flux"
   ]
  },
  {
   "cell_type": "code",
   "execution_count": 1,
   "metadata": {
    "collapsed": true
   },
   "outputs": [],
   "source": [
    "\"\"\"Import packages\"\"\"\n",
    "import datetime\n",
    "import xarray as xr\n",
    "import numpy as np\n",
    "import scipy.io as sio"
   ]
  },
  {
   "cell_type": "code",
   "execution_count": null,
   "metadata": {
    "collapsed": true
   },
   "outputs": [],
   "source": [
    "\"\"\"Get openDAP URL and download data\"\"\"\n",
    "url='http://tds.marine.rutgers.edu/thredds/dodsC/roms/ecb/ches/chesroms_ecb_1980-2014/avg' \n",
    "\n",
    "ds = xr.open_dataset(url)\n",
    "\n",
    "# slicing throught the time, xi_u and eta_u dimensions\n",
    "Huon =ds.sel(ocean_time=slice('2006','2011'),xi_u=59,eta_u=slice(10, 25)).Huon\n",
    "Huon_semilabileDOC =ds.sel(ocean_time=slice('2006','2011'),xi_u=59,eta_u=slice(10, 25)).Huon_semilabileDOC\n",
    "Huon_refractoryDOC =ds.sel(ocean_time=slice('2006','2011'),xi_u=59,eta_u=slice(10, 25)).Huon_refractoryDOC\n",
    "Huon_DOC=Huon_semilabileDOC+Huon_refractoryDOC"
   ]
  },
  {
   "cell_type": "code",
   "execution_count": null,
   "metadata": {
    "collapsed": true
   },
   "outputs": [],
   "source": [
    "\"\"\"Daily Huon*DOC\"\"\"\n",
    "DOCslb1 =ds.sel(ocean_time=slice('2006','2011'),xi_rho=59,eta_rho=slice(10, 25)).semilabileDOC\n",
    "DOCslb2 =ds.sel(ocean_time=slice('2006','2011'),xi_rho=60,eta_rho=slice(10, 25)).semilabileDOC\n",
    "DOCslb = 0.5*(DOCslb1 + DOCslb2)\n",
    "DOCrfr1 =ds.sel(ocean_time=slice('2006','2011'),xi_rho=59,eta_rho=slice(10, 25)).refractoryDOC\n",
    "DOCrfr2 =ds.sel(ocean_time=slice('2006','2011'),xi_rho=60,eta_rho=slice(10, 25)).refractoryDOC\n",
    "DOCrfr = 0.5*(DOCrfr1 + DOCrfr2)\n",
    "DOC=DOCslb + DOCrfr"
   ]
  },
  {
   "cell_type": "code",
   "execution_count": null,
   "metadata": {
    "collapsed": true
   },
   "outputs": [],
   "source": [
    "\"\"\"Daily salinity and temperature\"\"\"\n",
    "salt = ds.sel(ocean_time=slice('2006','2011'),xi_rho=59,eta_rho=slice(10, 25)).salt\n",
    "temp= ds.sel(ocean_time=slice('2006','2011'),xi_rho=59,eta_rho=slice(10, 25)).temp"
   ]
  },
  {
   "cell_type": "code",
   "execution_count": null,
   "metadata": {
    "collapsed": true
   },
   "outputs": [],
   "source": [
    "def make_dataset(*data_array_list):\n",
    "    xr_ds = xr.Dataset({data_array.name: data_array for\n",
    "data_array in data_array_list \n",
    "                        })\n",
    "    return xr_ds"
   ]
  },
  {
   "cell_type": "code",
   "execution_count": null,
   "metadata": {
    "collapsed": true
   },
   "outputs": [],
   "source": [
    "makeds = make_dataset(Huon, Huon_DOC, DOC, salt, temp)\n",
    "makeds.to_netcdf('chesapeake_bay_docflux.nc')"
   ]
  }
 ],
 "metadata": {
  "kernelspec": {
   "display_name": "Python 3",
   "language": "python",
   "name": "python3"
  },
  "language_info": {
   "codemirror_mode": {
    "name": "ipython",
    "version": 3
   },
   "file_extension": ".py",
   "mimetype": "text/x-python",
   "name": "python",
   "nbconvert_exporter": "python",
   "pygments_lexer": "ipython3",
   "version": "3.6.3"
  }
 },
 "nbformat": 4,
 "nbformat_minor": 2
}
